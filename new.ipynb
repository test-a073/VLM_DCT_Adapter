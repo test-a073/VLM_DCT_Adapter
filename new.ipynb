{
 "cells": [
  {
   "cell_type": "code",
   "execution_count": null,
   "metadata": {},
   "outputs": [
    {
     "ename": "",
     "evalue": "",
     "output_type": "error",
     "traceback": [
      "\u001b[1;31mFailed to start the Kernel 'Python 3 (ipykernel)'. \n",
      "\u001b[1;31mView Jupyter <a href='command:jupyter.viewOutput'>log</a> for further details. Cannot find module '@jupyterlab/services'\n",
      "\u001b[1;31mRequire stack:\n",
      "\u001b[1;31m- /common/home/users/s/sasikayw/.cursor-server/extensions/ms-toolsai.jupyter-2024.11.0-linux-x64/dist/extension.node.js\n",
      "\u001b[1;31m- /common/home/users/s/sasikayw/.cursor-server/extensions/ms-toolsai.jupyter-2024.11.0-linux-x64/dist/extension.node.proxy.js\n",
      "\u001b[1;31m- /common/home/users/s/sasikayw/.cursor-server/cli/servers/Stable-f3f2ad556456ff2df80332923bb1e2a818110d10/server/out/vs/workbench/api/node/extensionHostProcess.js"
     ]
    }
   ],
   "source": [
    "print(\"Hello\")"
   ]
  }
 ],
 "metadata": {
  "kernelspec": {
   "display_name": "Python 3 (ipykernel)",
   "language": "python",
   "name": "python3"
  }
 },
 "nbformat": 4,
 "nbformat_minor": 2
}
